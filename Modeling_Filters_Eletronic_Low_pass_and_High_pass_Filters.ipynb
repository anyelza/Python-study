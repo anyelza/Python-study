{
  "nbformat": 4,
  "nbformat_minor": 0,
  "metadata": {
    "colab": {
      "provenance": [],
      "authorship_tag": "ABX9TyNlyZIC0Od/PY5sX945iCj5",
      "include_colab_link": true
    },
    "kernelspec": {
      "name": "python3",
      "display_name": "Python 3"
    },
    "language_info": {
      "name": "python"
    }
  },
  "cells": [
    {
      "cell_type": "markdown",
      "metadata": {
        "id": "view-in-github",
        "colab_type": "text"
      },
      "source": [
        "<a href=\"https://colab.research.google.com/github/anyelza/Python-study/blob/main/Modeling_Filters_Eletronic_Low_pass_and_High_pass_Filters.ipynb\" target=\"_parent\"><img src=\"https://colab.research.google.com/assets/colab-badge.svg\" alt=\"Open In Colab\"/></a>"
      ]
    },
    {
      "cell_type": "code",
      "execution_count": 15,
      "metadata": {
        "colab": {
          "base_uri": "https://localhost:8080/"
        },
        "id": "CIzygci_K_hQ",
        "outputId": "477df73b-d4b6-44f9-e96a-01ba379b2c3e"
      },
      "outputs": [
        {
          "output_type": "execute_result",
          "data": {
            "text/plain": [
              "3.141592653589793"
            ]
          },
          "metadata": {},
          "execution_count": 15
        }
      ],
      "source": [
        "#Calculator for low-pass and high-pass filters\n",
        "\n",
        "import math\n",
        "math.pi\n"
      ]
    },
    {
      "cell_type": "code",
      "source": [
        "print('To find the cutoff frequency, we need to select a some parameters:')\n",
        "ValorC1 = float(input('Enter the capacitance value (1):  '))\n",
        "ValorC2 = float(input('enter the capacitance value (2):  '))\n",
        "FreqBaixa = float(input('Enter the low-pass frequency value: '))\n",
        "FreqAlta = float(input('Enter the high-pass frequency value: '))\n",
        "\n",
        "R1 = 1/(2*(math.pi)*FreqAlta*ValorC2)\n",
        "R2 = 1/(2*(math.pi)*FreqBaixa*ValorC1)\n",
        "\n",
        "print(f'The values found for resistor 1 and 2 are, respectively:, {R1} e {R2} ohms.')"
      ],
      "metadata": {
        "colab": {
          "base_uri": "https://localhost:8080/"
        },
        "id": "4mK7UXv8Mw-g",
        "outputId": "8107e365-5d73-4faa-bfbf-2526e7dca8de"
      },
      "execution_count": 17,
      "outputs": [
        {
          "output_type": "stream",
          "name": "stdout",
          "text": [
            "To find the cutoff frequency, we need to select a some parameters:\n",
            "Enter the capacitance value (1):  200e-9\n",
            "enter the capacitance value (2):  100e-9\n",
            "Enter the low-pass frequency value: 100\n",
            "Enter the high-pass frequency value: 1500\n",
            "The values found for resistor 1 and 2 are, respectively:, 1061.032953945969 e 7957.747154594768 ohms.\n"
          ]
        }
      ]
    },
    {
      "cell_type": "code",
      "source": [
        "#To project the filter\n",
        "print(\"Option 1: Enter the initial value for resistor\")\n",
        "print(\"Option 2: Enter the initial value for capacitance\")\n",
        "\n",
        "opcao = input(\"Choose one of the options above to model your filter: \")\n",
        "f = float(input(\"Enter the value of the desired cutoff frequency: \"))\n",
        "\n",
        "if opcao == '1':\n",
        "  R = float(input(\"Enter the value for resistance: \"))\n",
        "  C = 1/(2*(math.pi)*R*f)\n",
        "  print(f'The value found for the capacitance is {C}. F')\n",
        "elif opcao == '2':\n",
        "  C = float(input('Enter the value for the capacitance: '))\n",
        "  R = round(1/(2*(math.pi)*C*f),2)\n",
        "  print(f'The value found for resistance is {R} ohms')\n",
        "else:\n",
        "  print(\"Option not found. Please repeat your choice.\")"
      ],
      "metadata": {
        "colab": {
          "base_uri": "https://localhost:8080/"
        },
        "id": "lRF8fdNkhbae",
        "outputId": "1d14e70c-3a4e-464d-bb8c-e8f2694140ea"
      },
      "execution_count": 21,
      "outputs": [
        {
          "output_type": "stream",
          "name": "stdout",
          "text": [
            "Option 1: Enter the initial value for resistor\n",
            "Option 2: Enter the initial value for capacitance\n",
            "Choose one of the options above to model your filter: 1\n",
            "Enter the value of the desired cutoff frequency: 60\n",
            "Enter the value for resistance: 1e3\n",
            "The value found for the capacitance is 2.6525823848649226e-06. F\n"
          ]
        }
      ]
    }
  ]
}