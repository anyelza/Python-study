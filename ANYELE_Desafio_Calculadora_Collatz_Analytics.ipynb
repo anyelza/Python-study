{
  "cells": [
    {
      "cell_type": "markdown",
      "metadata": {
        "id": "F5dV54OanxCu"
      },
      "source": [
        "# Calculadora do número de Collatz"
      ]
    },
    {
      "cell_type": "code",
      "execution_count": 1,
      "metadata": {
        "colab": {
          "base_uri": "https://localhost:8080/"
        },
        "id": "QqbCWudwyV9t",
        "outputId": "356d6bb5-42d3-4ab9-cc06-fad6b76eb072"
      },
      "outputs": [
        {
          "name": "stdout",
          "output_type": "stream",
          "text": [
            "16\n",
            "8.0\n",
            "4.0\n",
            "2.0\n",
            "1.0\n",
            "\n",
            " O número de passos é 5\n"
          ]
        }
      ],
      "source": [
        "numero = input('Digite um número inteiro: ')\n",
        "numero = int(numero)\n",
        "contador = 0\n",
        "\n",
        "while numero != 1:\n",
        "  if(numero%2 == 0):\n",
        "    numero = numero/2\n",
        "    print(f'{numero}')\n",
        "  else:\n",
        "    numero = (numero)*3+1\n",
        "    print(f'{numero}')\n",
        "  contador = contador + 1\n",
        "\n",
        "print(f'\\n O número de passos é {contador}')\n"
      ]
    }
  ],
  "metadata": {
    "colab": {
      "provenance": []
    },
    "kernelspec": {
      "display_name": "base",
      "language": "python",
      "name": "python3"
    },
    "language_info": {
      "codemirror_mode": {
        "name": "ipython",
        "version": 3
      },
      "file_extension": ".py",
      "mimetype": "text/x-python",
      "name": "python",
      "nbconvert_exporter": "python",
      "pygments_lexer": "ipython3",
      "version": "3.9.13"
    },
    "vscode": {
      "interpreter": {
        "hash": "4dd710236e51a069c32eb81b90d74d9ec4ce067f2f715ab37edae1ab2e676872"
      }
    }
  },
  "nbformat": 4,
  "nbformat_minor": 0
}
